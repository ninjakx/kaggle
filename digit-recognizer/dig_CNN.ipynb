{
  "nbformat": 4,
  "nbformat_minor": 0,
  "metadata": {
    "colab": {
      "name": "dig_CNN.ipynb",
      "version": "0.3.2",
      "provenance": [],
      "collapsed_sections": []
    },
    "kernelspec": {
      "name": "python3",
      "display_name": "Python 3"
    },
    "accelerator": "GPU"
  },
  "cells": [
    {
      "metadata": {
        "id": "JnQ_ZXKxSiwN",
        "colab_type": "code",
        "colab": {
          "base_uri": "https://localhost:8080/",
          "height": 34
        },
        "outputId": "2be39363-e318-4ace-dcdd-5bc80eb1d9ad"
      },
      "cell_type": "code",
      "source": [
        "import tensorflow as tf\n",
        "tf.test.gpu_device_name()"
      ],
      "execution_count": 2,
      "outputs": [
        {
          "output_type": "execute_result",
          "data": {
            "text/plain": [
              "'/device:GPU:0'"
            ]
          },
          "metadata": {
            "tags": []
          },
          "execution_count": 2
        }
      ]
    },
    {
      "metadata": {
        "id": "nFsEXhKuZKfj",
        "colab_type": "code",
        "colab": {
          "base_uri": "https://localhost:8080/",
          "height": 1030
        },
        "outputId": "3b4e53db-332f-4886-efd4-7b2b4b8a65b3"
      },
      "cell_type": "code",
      "source": [
        "!apt-get install -y -qq software-properties-common python-software-properties module-init-tools\n",
        "!add-apt-repository -y ppa:alessandro-strada/ppa 2>&1 > /dev/null\n",
        "!apt-get update -qq 2>&1 > /dev/null\n",
        "!apt-get -y install -qq google-drive-ocamlfuse fuse\n",
        "from google.colab import auth\n",
        "auth.authenticate_user()\n",
        "from oauth2client.client import GoogleCredentials\n",
        "creds = GoogleCredentials.get_application_default()\n",
        "import getpass\n",
        "!google-drive-ocamlfuse -headless -id={creds.client_id} -secret={creds.client_secret} < /dev/null 2>&1 | grep URL\n",
        "vcode = getpass.getpass()\n",
        "!echo {vcode} | google-drive-ocamlfuse -headless -id={creds.client_id} -secret={creds.client_secret}\n"
      ],
      "execution_count": 0,
      "outputs": [
        {
          "output_type": "stream",
          "text": [
            "gpg: keybox '/tmp/tmpsoprwrtj/pubring.gpg' created\n",
            "gpg: /tmp/tmpsoprwrtj/trustdb.gpg: trustdb created\n",
            "gpg: key AD5F235DF639B041: public key \"Launchpad PPA for Alessandro Strada\" imported\n",
            "gpg: Total number processed: 1\n",
            "gpg:               imported: 1\n",
            "Warning: apt-key output should not be parsed (stdout is not a terminal)\n"
          ],
          "name": "stdout"
        },
        {
          "output_type": "error",
          "ename": "KeyboardInterrupt",
          "evalue": "ignored",
          "traceback": [
            "\u001b[0;31m---------------------------------------------------------------------------\u001b[0m",
            "\u001b[0;31mKeyboardInterrupt\u001b[0m                         Traceback (most recent call last)",
            "\u001b[0;32m/usr/local/lib/python3.6/dist-packages/ipykernel/kernelbase.py\u001b[0m in \u001b[0;36m_input_request\u001b[0;34m(self, prompt, ident, parent, password)\u001b[0m\n\u001b[1;32m    729\u001b[0m             \u001b[0;32mtry\u001b[0m\u001b[0;34m:\u001b[0m\u001b[0;34m\u001b[0m\u001b[0m\n\u001b[0;32m--> 730\u001b[0;31m                 \u001b[0mident\u001b[0m\u001b[0;34m,\u001b[0m \u001b[0mreply\u001b[0m \u001b[0;34m=\u001b[0m \u001b[0mself\u001b[0m\u001b[0;34m.\u001b[0m\u001b[0msession\u001b[0m\u001b[0;34m.\u001b[0m\u001b[0mrecv\u001b[0m\u001b[0;34m(\u001b[0m\u001b[0mself\u001b[0m\u001b[0;34m.\u001b[0m\u001b[0mstdin_socket\u001b[0m\u001b[0;34m,\u001b[0m \u001b[0;36m0\u001b[0m\u001b[0;34m)\u001b[0m\u001b[0;34m\u001b[0m\u001b[0m\n\u001b[0m\u001b[1;32m    731\u001b[0m             \u001b[0;32mexcept\u001b[0m \u001b[0mException\u001b[0m\u001b[0;34m:\u001b[0m\u001b[0;34m\u001b[0m\u001b[0m\n",
            "\u001b[0;32m/usr/local/lib/python3.6/dist-packages/jupyter_client/session.py\u001b[0m in \u001b[0;36mrecv\u001b[0;34m(self, socket, mode, content, copy)\u001b[0m\n\u001b[1;32m    802\u001b[0m         \u001b[0;32mtry\u001b[0m\u001b[0;34m:\u001b[0m\u001b[0;34m\u001b[0m\u001b[0m\n\u001b[0;32m--> 803\u001b[0;31m             \u001b[0mmsg_list\u001b[0m \u001b[0;34m=\u001b[0m \u001b[0msocket\u001b[0m\u001b[0;34m.\u001b[0m\u001b[0mrecv_multipart\u001b[0m\u001b[0;34m(\u001b[0m\u001b[0mmode\u001b[0m\u001b[0;34m,\u001b[0m \u001b[0mcopy\u001b[0m\u001b[0;34m=\u001b[0m\u001b[0mcopy\u001b[0m\u001b[0;34m)\u001b[0m\u001b[0;34m\u001b[0m\u001b[0m\n\u001b[0m\u001b[1;32m    804\u001b[0m         \u001b[0;32mexcept\u001b[0m \u001b[0mzmq\u001b[0m\u001b[0;34m.\u001b[0m\u001b[0mZMQError\u001b[0m \u001b[0;32mas\u001b[0m \u001b[0me\u001b[0m\u001b[0;34m:\u001b[0m\u001b[0;34m\u001b[0m\u001b[0m\n",
            "\u001b[0;32m/usr/local/lib/python3.6/dist-packages/zmq/sugar/socket.py\u001b[0m in \u001b[0;36mrecv_multipart\u001b[0;34m(self, flags, copy, track)\u001b[0m\n\u001b[1;32m    394\u001b[0m         \"\"\"\n\u001b[0;32m--> 395\u001b[0;31m         \u001b[0mparts\u001b[0m \u001b[0;34m=\u001b[0m \u001b[0;34m[\u001b[0m\u001b[0mself\u001b[0m\u001b[0;34m.\u001b[0m\u001b[0mrecv\u001b[0m\u001b[0;34m(\u001b[0m\u001b[0mflags\u001b[0m\u001b[0;34m,\u001b[0m \u001b[0mcopy\u001b[0m\u001b[0;34m=\u001b[0m\u001b[0mcopy\u001b[0m\u001b[0;34m,\u001b[0m \u001b[0mtrack\u001b[0m\u001b[0;34m=\u001b[0m\u001b[0mtrack\u001b[0m\u001b[0;34m)\u001b[0m\u001b[0;34m]\u001b[0m\u001b[0;34m\u001b[0m\u001b[0m\n\u001b[0m\u001b[1;32m    396\u001b[0m         \u001b[0;31m# have first part already, only loop while more to receive\u001b[0m\u001b[0;34m\u001b[0m\u001b[0;34m\u001b[0m\u001b[0m\n",
            "\u001b[0;32mzmq/backend/cython/socket.pyx\u001b[0m in \u001b[0;36mzmq.backend.cython.socket.Socket.recv\u001b[0;34m()\u001b[0m\n",
            "\u001b[0;32mzmq/backend/cython/socket.pyx\u001b[0m in \u001b[0;36mzmq.backend.cython.socket.Socket.recv\u001b[0;34m()\u001b[0m\n",
            "\u001b[0;32mzmq/backend/cython/socket.pyx\u001b[0m in \u001b[0;36mzmq.backend.cython.socket._recv_copy\u001b[0;34m()\u001b[0m\n",
            "\u001b[0;32m/usr/local/lib/python3.6/dist-packages/zmq/backend/cython/checkrc.pxd\u001b[0m in \u001b[0;36mzmq.backend.cython.checkrc._check_rc\u001b[0;34m()\u001b[0m\n",
            "\u001b[0;31mKeyboardInterrupt\u001b[0m: ",
            "\nDuring handling of the above exception, another exception occurred:\n",
            "\u001b[0;31mKeyboardInterrupt\u001b[0m                         Traceback (most recent call last)",
            "\u001b[0;32m<ipython-input-1-75a4d519ca25>\u001b[0m in \u001b[0;36m<module>\u001b[0;34m()\u001b[0m\n\u001b[1;32m      9\u001b[0m \u001b[0;32mimport\u001b[0m \u001b[0mgetpass\u001b[0m\u001b[0;34m\u001b[0m\u001b[0m\n\u001b[1;32m     10\u001b[0m \u001b[0mget_ipython\u001b[0m\u001b[0;34m(\u001b[0m\u001b[0;34m)\u001b[0m\u001b[0;34m.\u001b[0m\u001b[0msystem\u001b[0m\u001b[0;34m(\u001b[0m\u001b[0;34m'google-drive-ocamlfuse -headless -id={creds.client_id} -secret={creds.client_secret} < /dev/null 2>&1 | grep URL'\u001b[0m\u001b[0;34m)\u001b[0m\u001b[0;34m\u001b[0m\u001b[0m\n\u001b[0;32m---> 11\u001b[0;31m \u001b[0mvcode\u001b[0m \u001b[0;34m=\u001b[0m \u001b[0mgetpass\u001b[0m\u001b[0;34m.\u001b[0m\u001b[0mgetpass\u001b[0m\u001b[0;34m(\u001b[0m\u001b[0;34m)\u001b[0m\u001b[0;34m\u001b[0m\u001b[0m\n\u001b[0m\u001b[1;32m     12\u001b[0m \u001b[0mget_ipython\u001b[0m\u001b[0;34m(\u001b[0m\u001b[0;34m)\u001b[0m\u001b[0;34m.\u001b[0m\u001b[0msystem\u001b[0m\u001b[0;34m(\u001b[0m\u001b[0;34m'echo {vcode} | google-drive-ocamlfuse -headless -id={creds.client_id} -secret={creds.client_secret}'\u001b[0m\u001b[0;34m)\u001b[0m\u001b[0;34m\u001b[0m\u001b[0m\n",
            "\u001b[0;32m/usr/local/lib/python3.6/dist-packages/ipykernel/kernelbase.py\u001b[0m in \u001b[0;36mgetpass\u001b[0;34m(self, prompt, stream)\u001b[0m\n\u001b[1;32m    686\u001b[0m             \u001b[0mself\u001b[0m\u001b[0;34m.\u001b[0m\u001b[0m_parent_ident\u001b[0m\u001b[0;34m,\u001b[0m\u001b[0;34m\u001b[0m\u001b[0m\n\u001b[1;32m    687\u001b[0m             \u001b[0mself\u001b[0m\u001b[0;34m.\u001b[0m\u001b[0m_parent_header\u001b[0m\u001b[0;34m,\u001b[0m\u001b[0;34m\u001b[0m\u001b[0m\n\u001b[0;32m--> 688\u001b[0;31m             \u001b[0mpassword\u001b[0m\u001b[0;34m=\u001b[0m\u001b[0;32mTrue\u001b[0m\u001b[0;34m,\u001b[0m\u001b[0;34m\u001b[0m\u001b[0m\n\u001b[0m\u001b[1;32m    689\u001b[0m         )\n\u001b[1;32m    690\u001b[0m \u001b[0;34m\u001b[0m\u001b[0m\n",
            "\u001b[0;32m/usr/local/lib/python3.6/dist-packages/ipykernel/kernelbase.py\u001b[0m in \u001b[0;36m_input_request\u001b[0;34m(self, prompt, ident, parent, password)\u001b[0m\n\u001b[1;32m    733\u001b[0m             \u001b[0;32mexcept\u001b[0m \u001b[0mKeyboardInterrupt\u001b[0m\u001b[0;34m:\u001b[0m\u001b[0;34m\u001b[0m\u001b[0m\n\u001b[1;32m    734\u001b[0m                 \u001b[0;31m# re-raise KeyboardInterrupt, to truncate traceback\u001b[0m\u001b[0;34m\u001b[0m\u001b[0;34m\u001b[0m\u001b[0m\n\u001b[0;32m--> 735\u001b[0;31m                 \u001b[0;32mraise\u001b[0m \u001b[0mKeyboardInterrupt\u001b[0m\u001b[0;34m\u001b[0m\u001b[0m\n\u001b[0m\u001b[1;32m    736\u001b[0m             \u001b[0;32melse\u001b[0m\u001b[0;34m:\u001b[0m\u001b[0;34m\u001b[0m\u001b[0m\n\u001b[1;32m    737\u001b[0m                 \u001b[0;32mbreak\u001b[0m\u001b[0;34m\u001b[0m\u001b[0m\n",
            "\u001b[0;31mKeyboardInterrupt\u001b[0m: "
          ]
        }
      ]
    },
    {
      "metadata": {
        "id": "7TGibeKuZksY",
        "colab_type": "code",
        "colab": {}
      },
      "cell_type": "code",
      "source": [
        "!mkdir -p drive\n",
        "!google-drive-ocamlfuse drive"
      ],
      "execution_count": 0,
      "outputs": []
    },
    {
      "metadata": {
        "id": "bVsgfXh-kLKC",
        "colab_type": "code",
        "colab": {
          "base_uri": "https://localhost:8080/",
          "height": 34
        },
        "outputId": "fd047a4b-4d9b-425c-e335-412fdf409aa5"
      },
      "cell_type": "code",
      "source": [
        "!ls "
      ],
      "execution_count": 1,
      "outputs": [
        {
          "output_type": "stream",
          "text": [
            "datalab  drive\r\n"
          ],
          "name": "stdout"
        }
      ]
    },
    {
      "metadata": {
        "id": "F2HGU2HHZn3P",
        "colab_type": "code",
        "colab": {
          "base_uri": "https://localhost:8080/",
          "height": 34
        },
        "outputId": "ea737644-36e9-486e-f96d-fca1b063e275"
      },
      "cell_type": "code",
      "source": [
        "%cd drive/dig_mnist"
      ],
      "execution_count": 2,
      "outputs": [
        {
          "output_type": "stream",
          "text": [
            "/content/drive/dig_mnist\n"
          ],
          "name": "stdout"
        }
      ]
    },
    {
      "metadata": {
        "id": "UcsuX4vKXtvb",
        "colab_type": "code",
        "colab": {
          "base_uri": "https://localhost:8080/",
          "height": 156
        },
        "outputId": "f445efd9-3e79-40b0-c876-3d1d632bef25"
      },
      "cell_type": "code",
      "source": [
        "from sklearn.datasets import fetch_mldata\n",
        "from sklearn.cross_validation import train_test_split\n",
        "from sklearn import datasets\n",
        "from keras.optimizers import Adam\n",
        "from keras.utils import np_utils\n",
        "import numpy as np\n",
        "import argparse\n",
        "import cv2\n",
        "import pandas as pd\n",
        "from numpy import genfromtxt\n",
        " \n",
        "# load the MNIST digits dataset\n",
        "\n",
        "#train_file = \"train.csv\"\n",
        "#raw_data = genfromtxt(train_file, delimiter=',', skip_header=1)\n",
        "\n",
        "train = pd.read_csv(\"train.csv\")\n",
        "test =  pd.read_csv(\"test.csv\")\n",
        "print (train.shape)\n",
        "print (test.shape)\n",
        "train.head(10)\n",
        "\n",
        "target = train['label']\n",
        "features = train.drop('label',axis=1)\n",
        "print(target.shape)\n",
        "print(features.shape)\n"
      ],
      "execution_count": 3,
      "outputs": [
        {
          "output_type": "stream",
          "text": [
            "/usr/local/lib/python3.6/dist-packages/sklearn/cross_validation.py:41: DeprecationWarning: This module was deprecated in version 0.18 in favor of the model_selection module into which all the refactored classes and functions are moved. Also note that the interface of the new CV iterators are different from that of this module. This module will be removed in 0.20.\n",
            "  \"This module will be removed in 0.20.\", DeprecationWarning)\n",
            "Using TensorFlow backend.\n"
          ],
          "name": "stderr"
        },
        {
          "output_type": "stream",
          "text": [
            "(42000, 785)\n",
            "(28000, 784)\n",
            "(42000,)\n",
            "(42000, 784)\n"
          ],
          "name": "stdout"
        }
      ]
    },
    {
      "metadata": {
        "id": "4rjKu420Xtvs",
        "colab_type": "code",
        "colab": {
          "base_uri": "https://localhost:8080/",
          "height": 416
        },
        "outputId": "e9b804ec-e082-4eb4-e391-b1e192055788"
      },
      "cell_type": "code",
      "source": [
        "# Show image of 5th row\n",
        "\n",
        "import matplotlib.pyplot as plt\n",
        "label = target[5].argmax(axis=0)\n",
        "img = features.iloc[5].reshape([28,28])\n",
        "plt.title(\"Index: {} , Label: {}\".format(5, label))\n",
        "plt.imshow(img, cmap='gray')\n",
        "plt.show()"
      ],
      "execution_count": 4,
      "outputs": [
        {
          "output_type": "stream",
          "text": [
            "/usr/local/lib/python3.6/dist-packages/ipykernel_launcher.py:4: FutureWarning: reshape is deprecated and will raise in a subsequent release. Please use .values.reshape(...) instead\n",
            "  after removing the cwd from sys.path.\n"
          ],
          "name": "stderr"
        },
        {
          "output_type": "display_data",
          "data": {
            "image/png": "[encoded data removed]",
            "text/plain": [
              "<matplotlib.figure.Figure at 0x7f1eabf6a860>"
            ]
          },
          "metadata": {
            "tags": []
          }
        }
      ]
    },
    {
      "metadata": {
        "id": "EiLMlYXAXtvy",
        "colab_type": "code",
        "colab": {
          "base_uri": "https://localhost:8080/",
          "height": 105
        },
        "outputId": "62d6d5a4-68f1-4e1c-deee-b0c36ae89fa9"
      },
      "cell_type": "code",
      "source": [
        "for i in range(len(features)):\n",
        "    features.iloc[i].reshape([28,28])\n",
        "print(features.iloc[5].shape)\n",
        "print((features.shape)) \n"
      ],
      "execution_count": 5,
      "outputs": [
        {
          "output_type": "stream",
          "text": [
            "/usr/local/lib/python3.6/dist-packages/ipykernel_launcher.py:2: FutureWarning: reshape is deprecated and will raise in a subsequent release. Please use .values.reshape(...) instead\n",
            "  \n"
          ],
          "name": "stderr"
        },
        {
          "output_type": "stream",
          "text": [
            "(784,)\n",
            "(42000, 784)\n"
          ],
          "name": "stdout"
        }
      ]
    },
    {
      "metadata": {
        "id": "L2t3Ke_OXtv4",
        "colab_type": "code",
        "colab": {
          "base_uri": "https://localhost:8080/",
          "height": 34
        },
        "outputId": "3ec41f20-06b6-4eba-c5ff-29414dd21051"
      },
      "cell_type": "code",
      "source": [
        "image_size = int(np.sqrt((features.shape)[1]))\n",
        "print(image_size)"
      ],
      "execution_count": 6,
      "outputs": [
        {
          "output_type": "stream",
          "text": [
            "28\n"
          ],
          "name": "stdout"
        }
      ]
    },
    {
      "metadata": {
        "id": "C1NizWY1XtwD",
        "colab_type": "code",
        "colab": {}
      },
      "cell_type": "code",
      "source": [
        "X_shape = ((features.shape)[0], image_size, image_size, 1)\n",
        "y_shape = ((features.shape)[0], 10)\n",
        "X_data = np.zeros(X_shape)\n",
        "y_data = np.zeros(y_shape)"
      ],
      "execution_count": 0,
      "outputs": []
    },
    {
      "metadata": {
        "id": "mADWTvcZXtwN",
        "colab_type": "code",
        "colab": {
          "base_uri": "https://localhost:8080/",
          "height": 71
        },
        "outputId": "24167814-ff82-45ee-9787-1783f4156dcc"
      },
      "cell_type": "code",
      "source": [
        "for i in range((features.shape[0])):\n",
        "        data = features.iloc[i].reshape([28,28])\n",
        "        lab = target.iloc[i]\n",
        "        #print(lab)\n",
        "        #print(data)\n",
        "        X_data[i] = np.array(data / 255.0).reshape(image_size, image_size, 1)\n",
        "        y_data[i] = np_utils.to_categorical(int(lab), 10) \n"
      ],
      "execution_count": 8,
      "outputs": [
        {
          "output_type": "stream",
          "text": [
            "/usr/local/lib/python3.6/dist-packages/ipykernel_launcher.py:2: FutureWarning: reshape is deprecated and will raise in a subsequent release. Please use .values.reshape(...) instead\n",
            "  \n"
          ],
          "name": "stderr"
        }
      ]
    },
    {
      "metadata": {
        "id": "_XRWI47UXtwT",
        "colab_type": "code",
        "colab": {}
      },
      "cell_type": "code",
      "source": [
        "random_seed = 2\n",
        "trainData, testData = train_test_split(X_data, test_size=0.1,random_state=random_seed)\n",
        "trainLabels, testLabels = train_test_split(y_data, test_size=0.1,random_state=random_seed)\n"
      ],
      "execution_count": 0,
      "outputs": []
    },
    {
      "metadata": {
        "id": "8mkFhKtojiB4",
        "colab_type": "code",
        "colab": {}
      },
      "cell_type": "code",
      "source": [
        "LOG_DIR = 'logs'\n",
        "get_ipython().system_raw(\n",
        "    'tensorboard --logdir {} --host 0.0.0.0 --port 6006 &'\n",
        "    .format(LOG_DIR)\n",
        ")\n"
      ],
      "execution_count": 0,
      "outputs": []
    },
    {
      "metadata": {
        "id": "ZbtJdC-qy3oc",
        "colab_type": "code",
        "colab": {
          "base_uri": "https://localhost:8080/",
          "height": 986
        },
        "outputId": "6cc7a6b9-5934-4df7-ca99-e184da06ebff"
      },
      "cell_type": "code",
      "source": [
        "!npm install -g localtunnel"
      ],
      "execution_count": 16,
      "outputs": [
        {
          "output_type": "stream",
          "text": [
            "\u001b[K\u001b[?25h/tools/node/bin/lt -> /tools/node/lib/node_modules/localtunnel/bin/client\n",
            "\u001b[K\u001b[?25h/tools/node/lib\n",
            "└─┬ \u001b[40m\u001b[33mlocaltunnel@1.9.0\u001b[39m\u001b[49m \n",
            "  ├─┬ \u001b[40m\u001b[33maxios@0.17.1\u001b[39m\u001b[49m \n",
            "  │ ├─┬ \u001b[40m\u001b[33mfollow-redirects@1.5.1\u001b[39m\u001b[49m \n",
            "  │ │ └── \u001b[40m\u001b[33mdebug@3.1.0\u001b[39m\u001b[49m \n",
            "  │ └── \u001b[40m\u001b[33mis-buffer@1.1.6\u001b[39m\u001b[49m \n",
            "  ├─┬ \u001b[40m\u001b[33mdebug@2.6.8\u001b[39m\u001b[49m \n",
            "  │ └── \u001b[40m\u001b[33mms@2.0.0\u001b[39m\u001b[49m \n",
            "  ├── \u001b[40m\u001b[33mopenurl@1.1.1\u001b[39m\u001b[49m \n",
            "  └─┬ \u001b[40m\u001b[33myargs@6.6.0\u001b[39m\u001b[49m \n",
            "    ├── \u001b[40m\u001b[33mcamelcase@3.0.0\u001b[39m\u001b[49m \n",
            "    ├─┬ \u001b[40m\u001b[33mcliui@3.2.0\u001b[39m\u001b[49m \n",
            "    │ ├─┬ \u001b[40m\u001b[33mstrip-ansi@3.0.1\u001b[39m\u001b[49m \n",
            "    │ │ └── \u001b[40m\u001b[33mansi-regex@2.1.1\u001b[39m\u001b[49m \n",
            "    │ └── \u001b[40m\u001b[33mwrap-ansi@2.1.0\u001b[39m\u001b[49m \n",
            "    ├── \u001b[40m\u001b[33mdecamelize@1.2.0\u001b[39m\u001b[49m \n",
            "    ├── \u001b[40m\u001b[33mget-caller-file@1.0.2\u001b[39m\u001b[49m \n",
            "    ├─┬ \u001b[40m\u001b[33mos-locale@1.4.0\u001b[39m\u001b[49m \n",
            "    │ └─┬ \u001b[40m\u001b[33mlcid@1.0.0\u001b[39m\u001b[49m \n",
            "    │   └── \u001b[40m\u001b[33minvert-kv@1.0.0\u001b[39m\u001b[49m \n",
            "    ├─┬ \u001b[40m\u001b[33mread-pkg-up@1.0.1\u001b[39m\u001b[49m \n",
            "    │ ├─┬ \u001b[40m\u001b[33mfind-up@1.1.2\u001b[39m\u001b[49m \n",
            "    │ │ ├── \u001b[40m\u001b[33mpath-exists@2.1.0\u001b[39m\u001b[49m \n",
            "    │ │ └─┬ \u001b[40m\u001b[33mpinkie-promise@2.0.1\u001b[39m\u001b[49m \n",
            "    │ │   └── \u001b[40m\u001b[33mpinkie@2.0.4\u001b[39m\u001b[49m \n",
            "    │ └─┬ \u001b[40m\u001b[33mread-pkg@1.1.0\u001b[39m\u001b[49m \n",
            "    │   ├─┬ \u001b[40m\u001b[33mload-json-file@1.1.0\u001b[39m\u001b[49m \n",
            "    │   │ ├── \u001b[40m\u001b[33mgraceful-fs@4.1.11\u001b[39m\u001b[49m \n",
            "    │   │ ├─┬ \u001b[40m\u001b[33mparse-json@2.2.0\u001b[39m\u001b[49m \n",
            "    │   │ │ └─┬ \u001b[40m\u001b[33merror-ex@1.3.2\u001b[39m\u001b[49m \n",
            "    │   │ │   └── \u001b[40m\u001b[33mis-arrayish@0.2.1\u001b[39m\u001b[49m \n",
            "    │   │ ├── \u001b[40m\u001b[33mpify@2.3.0\u001b[39m\u001b[49m \n",
            "    │   │ └─┬ \u001b[40m\u001b[33mstrip-bom@2.0.0\u001b[39m\u001b[49m \n",
            "    │   │   └── \u001b[40m\u001b[33mis-utf8@0.2.1\u001b[39m\u001b[49m \n",
            "    │   ├─┬ \u001b[40m\u001b[33mnormalize-package-data@2.4.0\u001b[39m\u001b[49m \n",
            "    │   │ ├── \u001b[40m\u001b[33mhosted-git-info@2.7.1\u001b[39m\u001b[49m \n",
            "    │   │ ├─┬ \u001b[40m\u001b[33mis-builtin-module@1.0.0\u001b[39m\u001b[49m \n",
            "    │   │ │ └── \u001b[40m\u001b[33mbuiltin-modules@1.1.1\u001b[39m\u001b[49m \n",
            "    │   │ ├── \u001b[40m\u001b[33msemver@5.5.0\u001b[39m\u001b[49m \n",
            "    │   │ └─┬ \u001b[40m\u001b[33mvalidate-npm-package-license@3.0.3\u001b[39m\u001b[49m \n",
            "    │   │   ├─┬ \u001b[40m\u001b[33mspdx-correct@3.0.0\u001b[39m\u001b[49m \n",
            "    │   │   │ └── \u001b[40m\u001b[33mspdx-license-ids@3.0.0\u001b[39m\u001b[49m \n",
            "    │   │   └─┬ \u001b[40m\u001b[33mspdx-expression-parse@3.0.0\u001b[39m\u001b[49m \n",
            "    │   │     └── \u001b[40m\u001b[33mspdx-exceptions@2.1.0\u001b[39m\u001b[49m \n",
            "    │   └── \u001b[40m\u001b[33mpath-type@1.1.0\u001b[39m\u001b[49m \n",
            "    ├── \u001b[40m\u001b[33mrequire-directory@2.1.1\u001b[39m\u001b[49m \n",
            "    ├── \u001b[40m\u001b[33mrequire-main-filename@1.0.1\u001b[39m\u001b[49m \n",
            "    ├── \u001b[40m\u001b[33mset-blocking@2.0.0\u001b[39m\u001b[49m \n",
            "    ├─┬ \u001b[40m\u001b[33mstring-width@1.0.2\u001b[39m\u001b[49m \n",
            "    │ ├── \u001b[40m\u001b[33mcode-point-at@1.1.0\u001b[39m\u001b[49m \n",
            "    │ └─┬ \u001b[40m\u001b[33mis-fullwidth-code-point@1.0.0\u001b[39m\u001b[49m \n",
            "    │   └── \u001b[40m\u001b[33mnumber-is-nan@1.0.1\u001b[39m\u001b[49m \n",
            "    ├── \u001b[40m\u001b[33mwhich-module@1.0.0\u001b[39m\u001b[49m \n",
            "    ├── \u001b[40m\u001b[33my18n@3.2.1\u001b[39m\u001b[49m \n",
            "    └── \u001b[40m\u001b[33myargs-parser@4.2.1\u001b[39m\u001b[49m \n",
            "\n"
          ],
          "name": "stdout"
        }
      ]
    },
    {
      "metadata": {
        "id": "4lvA-Fp4y6BV",
        "colab_type": "code",
        "colab": {}
      },
      "cell_type": "code",
      "source": [
        "get_ipython().system_raw('lt --port 6006 >> url.txt 2>&1 &')\n"
      ],
      "execution_count": 0,
      "outputs": []
    },
    {
      "metadata": {
        "id": "kp3ld5yjzlqW",
        "colab_type": "code",
        "colab": {
          "base_uri": "https://localhost:8080/",
          "height": 34
        },
        "outputId": "58515f91-eb51-4fcd-9557-5e274ff4fa1d"
      },
      "cell_type": "code",
      "source": [
        "! cat url.txt"
      ],
      "execution_count": 19,
      "outputs": [
        {
          "output_type": "stream",
          "text": [
            "your url is: https://stupid-dodo-35.localtunnel.me\r\n"
          ],
          "name": "stdout"
        }
      ]
    },
    {
      "metadata": {
        "id": "N8oEVel_u88e",
        "colab_type": "code",
        "colab": {}
      },
      "cell_type": "code",
      "source": [
        "from keras.callbacks import ModelCheckpoint\n",
        "from keras.callbacks import TensorBoard\n",
        "import tensorflow as tf\n",
        "from keras.callbacks import Callback\n",
        "import os\n",
        "run_opts = tf.RunOptions(report_tensor_allocations_upon_oom = True)\n",
        "\n",
        "from keras import backend as K\n",
        "K.clear_session()"
      ],
      "execution_count": 0,
      "outputs": []
    },
    {
      "metadata": {
        "id": "ICUc0PTMigeI",
        "colab_type": "code",
        "colab": {}
      },
      "cell_type": "code",
      "source": [
        "class SensitivitySpecificityCallback(Callback):\n",
        "    def on_epoch_end(self, epoch, logs=None):\n",
        "      \n",
        "        normalize=False\n",
        "        title='Confusion matrix'\n",
        "        tensor_name = 'image'\n",
        "        session=tf.Session()   \n",
        "        img_d_summary_dir = os.path.join('logs', \"image\")\n",
        "        img_d_summary_writer = tf.summary.FileWriter(img_d_summary_dir, session.graph)\n",
        "        x_test = self.validation_data[0]\n",
        "        y_test = self.validation_data[1]\n",
        "        #print(y_test)\n",
        "        # x_test, y_test = self.validation_data\n",
        "        predictions = self.model.predict(x_test)\n",
        "        #print(predictions)\n",
        "        y_test = np.argmax(y_test, axis=-1)\n",
        "        predictions = np.argmax(predictions, axis=-1)\n",
        "        #c = confusion_matrix(y_test, predictions)\n",
        "        correct_labels = y_test\n",
        "        predict_labels = predictions\n",
        "        conf = tf.contrib.metrics.confusion_matrix(correct_labels, predict_labels)\n",
        "\n",
        "        cm=session.run(conf)\n",
        "        if normalize:\n",
        "            cm = cm.astype('float')*10 / cm.sum(axis=1)[:, np.newaxis]\n",
        "            cm = np.nan_to_num(cm, copy=True)\n",
        "            cm = cm.astype('int')\n",
        "\n",
        "        np.set_printoptions(precision=2)\n",
        "\n",
        "        fig = matplotlib.figure.Figure(figsize=(12, 12), dpi=320, facecolor='w', edgecolor='k')\n",
        "        ax = fig.add_subplot(1, 1, 1)\n",
        "        im = ax.imshow(cm, cmap='Oranges')\n",
        "\n",
        "        #classes = [re.sub(r'([a-z](?=[A-Z])|[A-Z](?=[A-Z][a-z]))', r'\\1 ', x) for x in labels]\n",
        "        #classes = ['\\n'.join(wrap(l, 40)) for l in classes]\n",
        "        classes = ['0','1','2','3','4','5','6','7','8','9']\n",
        "        tick_marks = np.arange(len(classes))\n",
        "\n",
        "        ax.set_xlabel('Predicted', fontsize=7)\n",
        "        ax.set_xticks(tick_marks)\n",
        "        c = ax.set_xticklabels(classes, fontsize=10, rotation=-90,  ha='center')\n",
        "        ax.xaxis.set_label_position('bottom')\n",
        "        ax.xaxis.tick_bottom()\n",
        "\n",
        "        ax.set_ylabel('True Label', fontsize=7)\n",
        "        ax.set_yticks(tick_marks)\n",
        "        ax.set_yticklabels(classes, fontsize=10, va ='center')\n",
        "        ax.yaxis.set_label_position('left')\n",
        "        ax.yaxis.tick_left()\n",
        "\n",
        "        for i, j in itertools.product(range(cm.shape[0]), range(cm.shape[1])):\n",
        "            ax.text(j, i, format(cm[i, j], 'd') if cm[i,j]!=0 else '.', horizontalalignment=\"center\", fontsize=6, verticalalignment='center', color= \"black\")\n",
        "\n",
        "        fig.set_tight_layout(True)\n",
        "        summary = tfplot.figure.to_summary(fig, tag=tensor_name)\n",
        "        img_d_summary_writer.add_summary(summary)\n",
        "        img_d_summary_writer.flush()\n",
        "        img_d_summary_writer.close()\n",
        "        #return summary"
      ],
      "execution_count": 0,
      "outputs": []
    },
    {
      "metadata": {
        "id": "DVRZW1wfi6Bn",
        "colab_type": "code",
        "colab": {}
      },
      "cell_type": "code",
      "source": [
        "class TrainValTensorBoard(TensorBoard):\n",
        "    def __init__(self, log_dir='./logs', **kwargs):\n",
        "        # Make the original `TensorBoard` log to a subdirectory 'training'\n",
        "        training_log_dir = os.path.join(log_dir, 'training')\n",
        "        super(TrainValTensorBoard, self).__init__(training_log_dir, **kwargs)\n",
        "        \n",
        "        # Log the validation metrics to a separate subdirectory\n",
        "        self.val_log_dir = os.path.join(log_dir, 'validation')\n",
        "        #self.img_d_summary_dir = os.path.join(log_dir, \"image\")\n",
        "\n",
        "    def set_model(self, model):\n",
        "        # Setup writer for validation metrics\n",
        "        self.val_writer = tf.summary.FileWriter(self.val_log_dir)\n",
        "        #self.img_d_summary_writer = tf.summary.FileWriter(self.img_d_summary_dir)\n",
        "        super(TrainValTensorBoard, self).set_model(model)\n",
        "\n",
        "    def on_epoch_end(self, epoch, logs=None):\n",
        "        # Pop the validation logs and handle them separately with\n",
        "        # `self.val_writer`. Also rename the keys so that they can\n",
        "        # be plotted on the same figure with the training metrics\n",
        "        #img_d_summary =  TrainValTensorBoard.plot_confusion_matrix(correct_labels, predict_labels, labels, tensor_name='image')\n",
        "        logs = logs or {}\n",
        "        val_logs = {k.replace('val_', ''): v for k, v in logs.items() if k.startswith('val_')}\n",
        "        for name, value in val_logs.items():\n",
        "            summary = tf.Summary()\n",
        "            summary_value = summary.value.add()\n",
        "            summary_value.simple_value = value.item()\n",
        "            summary_value.tag = name\n",
        "            self.val_writer.add_summary(summary, epoch)\n",
        "            #self.img_d_summary_writer.add_summary(img_d_summary, epoch)\n",
        "        self.val_writer.flush()\n",
        "        #self.img_d_summary_writer.flush()\n",
        "        \n",
        "        # Pass the remaining logs to `TensorBoard.on_epoch_end`\n",
        "        logs = {k: v for k, v in logs.items() if not k.startswith('val_')}\n",
        "        super(TrainValTensorBoard, self).on_epoch_end(epoch, logs)\n",
        "\n",
        "    def on_train_end(self, logs=None):\n",
        "        super(TrainValTensorBoard, self).on_train_end(logs)\n",
        "        self.val_writer.close()"
      ],
      "execution_count": 0,
      "outputs": []
    },
    {
      "metadata": {
        "id": "SOw7nqr5Xtwd",
        "colab_type": "code",
        "colab": {}
      },
      "cell_type": "code",
      "source": [
        "from keras.models import Sequential\n",
        "from keras.layers.normalization import BatchNormalization\n",
        "from keras.layers.convolutional import Convolution2D,MaxPooling2D\n",
        "from keras.layers.core import Activation,Dropout,Flatten,Dense\n",
        "from keras.optimizers import SGD, RMSprop, Adam    \n",
        "model = Sequential()\n",
        "# first set of CONV => RELU => POOL\n",
        "\n",
        "model.add(Convolution2D(32, (5, 5),input_shape=(28, 28, 1)))\n",
        "model.add(BatchNormalization(axis=-1))\n",
        "model.add(Activation(\"relu\"))\n",
        "\n",
        "model.add(Convolution2D(32, (3, 3)))\n",
        "model.add(BatchNormalization(axis=-1))\n",
        "model.add(Activation(\"relu\"))\n",
        "model.add(MaxPooling2D(pool_size=(2, 2), strides=(2, 2)))\n",
        "model.add(BatchNormalization(axis=-1))\n",
        "\n",
        "# second set of CONV => RELU => POOL\n",
        "model.add(Convolution2D(64,(3, 3),input_shape=(28, 28, 1)))\n",
        "model.add(BatchNormalization(axis=-1))\n",
        "model.add(Activation(\"relu\"))\n",
        "model.add(MaxPooling2D(pool_size=(2, 2), strides=(2, 2)))\n",
        "model.add(BatchNormalization(axis=-1))\n",
        "#model.add(Dropout(0.25))\n",
        "\n",
        "# third set of CONV => RELU => POOL\n",
        "model.add(Convolution2D(64,(3, 3),input_shape=(28, 28, 1)))\n",
        "model.add(BatchNormalization(axis=-1))\n",
        "model.add(Activation(\"relu\"))\n",
        "model.add(MaxPooling2D(pool_size=(2, 2), strides=(2, 2)))\n",
        "model.add(Dropout(0.25))\n",
        "\n",
        "# set of FC => RELU layers\n",
        "model.add(Flatten())\n",
        "model.add(BatchNormalization(axis=-1))\n",
        "model.add(Dense(256))\n",
        "model.add(Activation(\"relu\"))\n",
        "model.add(Dropout(0.8))\n",
        "\n",
        "# softmax classifier\n",
        "model.add(Dense(10))\n",
        "model.add(Activation(\"softmax\"))\n"
      ],
      "execution_count": 0,
      "outputs": []
    },
    {
      "metadata": {
        "id": "uwvWEjmjX0rP",
        "colab_type": "code",
        "colab": {
          "base_uri": "https://localhost:8080/",
          "height": 986
        },
        "outputId": "1f977f44-4742-4585-fd96-2d2dfb2955a5"
      },
      "cell_type": "code",
      "source": [
        "model.summary()"
      ],
      "execution_count": 34,
      "outputs": [
        {
          "output_type": "stream",
          "text": [
            "_________________________________________________________________\n",
            "Layer (type)                 Output Shape              Param #   \n",
            "=================================================================\n",
            "conv2d_1 (Conv2D)            (None, 24, 24, 32)        832       \n",
            "_________________________________________________________________\n",
            "batch_normalization_1 (Batch (None, 24, 24, 32)        128       \n",
            "_________________________________________________________________\n",
            "activation_1 (Activation)    (None, 24, 24, 32)        0         \n",
            "_________________________________________________________________\n",
            "conv2d_2 (Conv2D)            (None, 22, 22, 32)        9248      \n",
            "_________________________________________________________________\n",
            "batch_normalization_2 (Batch (None, 22, 22, 32)        128       \n",
            "_________________________________________________________________\n",
            "activation_2 (Activation)    (None, 22, 22, 32)        0         \n",
            "_________________________________________________________________\n",
            "max_pooling2d_1 (MaxPooling2 (None, 11, 11, 32)        0         \n",
            "_________________________________________________________________\n",
            "batch_normalization_3 (Batch (None, 11, 11, 32)        128       \n",
            "_________________________________________________________________\n",
            "conv2d_3 (Conv2D)            (None, 9, 9, 64)          18496     \n",
            "_________________________________________________________________\n",
            "batch_normalization_4 (Batch (None, 9, 9, 64)          256       \n",
            "_________________________________________________________________\n",
            "activation_3 (Activation)    (None, 9, 9, 64)          0         \n",
            "_________________________________________________________________\n",
            "max_pooling2d_2 (MaxPooling2 (None, 4, 4, 64)          0         \n",
            "_________________________________________________________________\n",
            "batch_normalization_5 (Batch (None, 4, 4, 64)          256       \n",
            "_________________________________________________________________\n",
            "conv2d_4 (Conv2D)            (None, 2, 2, 64)          36928     \n",
            "_________________________________________________________________\n",
            "batch_normalization_6 (Batch (None, 2, 2, 64)          256       \n",
            "_________________________________________________________________\n",
            "activation_4 (Activation)    (None, 2, 2, 64)          0         \n",
            "_________________________________________________________________\n",
            "max_pooling2d_3 (MaxPooling2 (None, 1, 1, 64)          0         \n",
            "_________________________________________________________________\n",
            "dropout_1 (Dropout)          (None, 1, 1, 64)          0         \n",
            "_________________________________________________________________\n",
            "flatten_1 (Flatten)          (None, 64)                0         \n",
            "_________________________________________________________________\n",
            "batch_normalization_7 (Batch (None, 64)                256       \n",
            "_________________________________________________________________\n",
            "dense_1 (Dense)              (None, 256)               16640     \n",
            "_________________________________________________________________\n",
            "activation_5 (Activation)    (None, 256)               0         \n",
            "_________________________________________________________________\n",
            "dropout_2 (Dropout)          (None, 256)               0         \n",
            "_________________________________________________________________\n",
            "dense_2 (Dense)              (None, 10)                2570      \n",
            "_________________________________________________________________\n",
            "activation_6 (Activation)    (None, 10)                0         \n",
            "=================================================================\n",
            "Total params: 86,122\n",
            "Trainable params: 85,418\n",
            "Non-trainable params: 704\n",
            "_________________________________________________________________\n"
          ],
          "name": "stdout"
        }
      ]
    },
    {
      "metadata": {
        "id": "AuO9SpoXXtwm",
        "colab_type": "code",
        "colab": {
          "base_uri": "https://localhost:8080/",
          "height": 34
        },
        "outputId": "ae5831b4-ceeb-49cd-e821-c1db324a459a"
      },
      "cell_type": "code",
      "source": [
        "# initialize the optimizer and model\n",
        "print(\"Compiling model...\")\n",
        "\n",
        "model.compile(loss=\"categorical_crossentropy\", optimizer=Adam(lr=0.001),metrics=[\"accuracy\"])"
      ],
      "execution_count": 35,
      "outputs": [
        {
          "output_type": "stream",
          "text": [
            "Compiling model...\n"
          ],
          "name": "stdout"
        }
      ]
    },
    {
      "metadata": {
        "id": "TMlKuXfKaMYN",
        "colab_type": "code",
        "colab": {}
      },
      "cell_type": "code",
      "source": [
        "from keras.preprocessing.image import ImageDataGenerator\n",
        "\n",
        "batch_size = 64\n",
        "gen = ImageDataGenerator(\n",
        "        rotation_range=8,\n",
        "        width_shift_range=0.08,\n",
        "        shear_range=0.1,\n",
        "        height_shift_range=0.08,\n",
        "        zoom_range=0.1)\n",
        "\n",
        "train_gen = gen.flow(trainData, trainLabels, batch_size=batch_size)\n",
        "test_gen = gen.flow(testData, testLabels, batch_size=batch_size)\n"
      ],
      "execution_count": 0,
      "outputs": []
    },
    {
      "metadata": {
        "id": "u6oPvoi6aOU_",
        "colab_type": "code",
        "colab": {}
      },
      "cell_type": "code",
      "source": [
        "print(\"training...\")\n",
        "history = model.fit_generator(train_gen, steps_per_epoch=train_gen.n, epochs=5, validation_data=test_gen,validation_steps=test_gen.n ,callbacks=[TrainValTensorBoard(write_graph=False)])\n",
        "#print(trainData.shape)\n",
        "#history = model.fit_generator(train_gen, steps_per_epoch=train_gen.n, epochs=3, validation_data=test_gen, validation_steps=test_gen.n)\n",
        "\n",
        "#model.fit(trainData, trainLabels, batch_size=300, epochs=5, validation_data=(testData, testLabels) , callbacks=[SensitivitySpecificityCallback(),TrainValTensorBoard(write_graph=False)])"
      ],
      "execution_count": 0,
      "outputs": []
    },
    {
      "metadata": {
        "id": "1q2ouHtgjY-u",
        "colab_type": "code",
        "colab": {}
      },
      "cell_type": "code",
      "source": [
        "import matplotlib.pyplot as plt  \n",
        "print(history.history.keys())  \n",
        "   \n",
        "plt.figure(1)  \n",
        "   \n",
        "# summarize history for accuracy  \n",
        "   \n",
        "plt.subplot(211)  \n",
        "plt.plot(history.history['acc'])  \n",
        "plt.plot(history.history['val_acc'])  \n",
        "plt.title('model accuracy')  \n",
        "plt.ylabel('accuracy')  \n",
        "plt.xlabel('epoch')  \n",
        "plt.legend(['train', 'test'], loc='upper left')  \n",
        "   \n",
        "# summarize history for loss  \n",
        "   \n",
        "plt.subplot(212)  \n",
        "plt.plot(history.history['loss'])  \n",
        "plt.plot(history.history['val_loss'])  \n",
        "plt.title('model loss')  \n",
        "plt.ylabel('loss')  \n",
        "plt.xlabel('epoch')  \n",
        "plt.legend(['train', 'test'], loc='upper left')  \n",
        "plt.show()  "
      ],
      "execution_count": 0,
      "outputs": []
    },
    {
      "metadata": {
        "id": "PBiMJCviaTZ8",
        "colab_type": "code",
        "colab": {}
      },
      "cell_type": "code",
      "source": [
        "data = gen.flow(X_data, y_data, batch_size=64)"
      ],
      "execution_count": 0,
      "outputs": []
    },
    {
      "metadata": {
        "id": "XqCyNIGwIZxy",
        "colab_type": "code",
        "colab": {
          "base_uri": "https://localhost:8080/",
          "height": 90
        },
        "outputId": "ff72d046-9e18-44c8-9fdf-dafe7f15a08c"
      },
      "cell_type": "code",
      "source": [
        "model.fit_generator(data, steps_per_epoch=train_gen.n, epochs=1)"
      ],
      "execution_count": 17,
      "outputs": [
        {
          "output_type": "stream",
          "text": [
            "Epoch 1/1\n",
            " 1811/37800 [>.............................] - ETA: 23:10 - loss: 0.0025 - acc: 0.9992 - lr: 0.0010"
          ],
          "name": "stdout"
        },
        {
          "output_type": "stream",
          "text": [
            " 5028/37800 [==>...........................] - ETA: 20:39 - loss: 0.0023 - acc: 0.9992 - lr: 0.0010"
          ],
          "name": "stdout"
        },
        {
          "output_type": "stream",
          "text": [
            " 7036/37800 [====>.........................] - ETA: 19:19 - loss: 0.0023 - acc: 0.9993 - lr: 0.0010"
          ],
          "name": "stdout"
        },
        {
          "output_type": "stream",
          "text": [
            " 9456/37800 [======>.......................] - ETA: 17:51 - loss: 0.0022 - acc: 0.9993 - lr: 0.0010"
          ],
          "name": "stdout"
        },
        {
          "output_type": "stream",
          "text": [
            "11708/37800 [========>.....................] - ETA: 16:26 - loss: 0.0022 - acc: 0.9993 - lr: 0.0010"
          ],
          "name": "stdout"
        },
        {
          "output_type": "stream",
          "text": [
            "13707/37800 [=========>....................] - ETA: 15:13 - loss: 0.0022 - acc: 0.9993 - lr: 0.0010"
          ],
          "name": "stdout"
        },
        {
          "output_type": "stream",
          "text": [
            "16592/37800 [============>.................] - ETA: 13:27 - loss: 0.0021 - acc: 0.9993 - lr: 0.0010"
          ],
          "name": "stdout"
        },
        {
          "output_type": "stream",
          "text": [
            "18758/37800 [=============>................] - ETA: 12:05 - loss: 0.0021 - acc: 0.9993 - lr: 0.0010"
          ],
          "name": "stdout"
        },
        {
          "output_type": "stream",
          "text": [
            "22337/37800 [================>.............] - ETA: 9:49 - loss: 0.0021 - acc: 0.9993 - lr: 0.0010"
          ],
          "name": "stdout"
        },
        {
          "output_type": "stream",
          "text": [
            "24662/37800 [==================>...........] - ETA: 8:20 - loss: 0.0021 - acc: 0.9993 - lr: 0.0010"
          ],
          "name": "stdout"
        },
        {
          "output_type": "stream",
          "text": [
            "27051/37800 [====================>.........] - ETA: 6:49 - loss: 0.0021 - acc: 0.9993 - lr: 0.0010"
          ],
          "name": "stdout"
        },
        {
          "output_type": "stream",
          "text": [
            "29638/37800 [======================>.......] - ETA: 5:11 - loss: 0.0021 - acc: 0.9993 - lr: 0.0010"
          ],
          "name": "stdout"
        },
        {
          "output_type": "stream",
          "text": [
            "32194/37800 [========================>.....] - ETA: 3:33 - loss: 0.0020 - acc: 0.9993 - lr: 0.0010"
          ],
          "name": "stdout"
        },
        {
          "output_type": "stream",
          "text": [
            "34356/37800 [==========================>...] - ETA: 2:11 - loss: 0.0020 - acc: 0.9993 - lr: 0.0010"
          ],
          "name": "stdout"
        },
        {
          "output_type": "stream",
          "text": [
            "36375/37800 [===========================>..] - ETA: 54s - loss: 0.0020 - acc: 0.9993 - lr: 0.0010"
          ],
          "name": "stdout"
        },
        {
          "output_type": "stream",
          "text": [
            "37800/37800 [==============================] - 1443s 38ms/step - loss: 0.0020 - acc: 0.9993 - lr: 0.0010\n"
          ],
          "name": "stdout"
        },
        {
          "output_type": "execute_result",
          "data": {
            "text/plain": [
              "<keras.callbacks.History at 0x7fa070ed5d30>"
            ]
          },
          "metadata": {
            "tags": []
          },
          "execution_count": 17
        }
      ]
    },
    {
      "metadata": {
        "id": "ugC-oMl9XtxA",
        "colab_type": "code",
        "colab": {
          "base_uri": "https://localhost:8080/",
          "height": 52
        },
        "outputId": "62ceb7e9-7fc3-4ae6-8aac-f05638c3cbaa"
      },
      "cell_type": "code",
      "source": [
        "print(test.shape)\n",
        "image_size = int(np.sqrt((features.shape)[1]))\n",
        "print(image_size)\n",
        "X2_shape = ((test.shape)[0], image_size, image_size, 1)\n",
        "y2_shape = ((test.shape)[0], 10)\n",
        "X2_data = np.zeros(X2_shape)\n",
        "y2_data = np.zeros(y2_shape)"
      ],
      "execution_count": 29,
      "outputs": [
        {
          "output_type": "stream",
          "text": [
            "(28000, 784)\n",
            "28\n"
          ],
          "name": "stdout"
        }
      ]
    },
    {
      "metadata": {
        "id": "7EjtbUl8a5ba",
        "colab_type": "code",
        "colab": {
          "base_uri": "https://localhost:8080/",
          "height": 72
        },
        "outputId": "8a5c2eb2-6b80-48c2-fcd5-e2489955bccd"
      },
      "cell_type": "code",
      "source": [
        "for i in range((test.shape[0])):\n",
        "        data = test.iloc[i].reshape([28,28])\n",
        "        X2_data[i] = np.array((data / 255.0)).reshape(image_size, image_size, 1)"
      ],
      "execution_count": 30,
      "outputs": [
        {
          "output_type": "stream",
          "text": [
            "/usr/local/lib/python3.6/dist-packages/ipykernel_launcher.py:2: FutureWarning: reshape is deprecated and will raise in a subsequent release. Please use .values.reshape(...) instead\n",
            "  \n"
          ],
          "name": "stderr"
        }
      ]
    },
    {
      "metadata": {
        "id": "4aR9V_T5aqyk",
        "colab_type": "code",
        "colab": {}
      },
      "cell_type": "code",
      "source": [
        "y_test_pred = np.array([], dtype=np.int64)\n",
        "num=[]\n",
        "for i in range(0,(test.shape)[0]):\n",
        "    probs = model.predict(X2_data[np.newaxis, i])\n",
        "    prediction = probs.argmax(axis=1) \n",
        "    y_test_pred=np.append(y_test_pred,int(prediction))\n",
        "    num.append(i+1)\n",
        "    \n"
      ],
      "execution_count": 0,
      "outputs": []
    },
    {
      "metadata": {
        "id": "XscosTMJBRv2",
        "colab_type": "code",
        "colab": {}
      },
      "cell_type": "code",
      "source": [
        "def output(test_predict, file_name):\n",
        "    with open(file_name, 'w') as myfile:\n",
        "        print('ImageId,Label', file = myfile)\n",
        "        for i in range(len(test_predict)):\n",
        "            print(int(test_predict[i]))\n",
        "            print(i + 1, ',', int(test_predict[i]), file = myfile, sep = '')\n",
        "    #print(\"Done writing\")"
      ],
      "execution_count": 0,
      "outputs": []
    },
    {
      "metadata": {
        "id": "C8VG9aswiURR",
        "colab_type": "code",
        "colab": {}
      },
      "cell_type": "code",
      "source": [
        "output(y_test_pred,\"sample_submission.csv\")"
      ],
      "execution_count": 0,
      "outputs": []
    },
    {
      "metadata": {
        "id": "Mly8Lm7xC-T9",
        "colab_type": "code",
        "colab": {}
      },
      "cell_type": "code",
      "source": [
        "model.save_weights('acc_weights.h5')"
      ],
      "execution_count": 0,
      "outputs": []
    }
  ]
}